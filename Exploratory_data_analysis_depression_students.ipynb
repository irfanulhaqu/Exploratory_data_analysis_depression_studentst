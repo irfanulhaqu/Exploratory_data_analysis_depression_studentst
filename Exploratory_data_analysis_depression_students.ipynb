{
 "cells": [
  {
   "cell_type": "markdown",
   "metadata": {},
   "source": [
    "                                          ABOUT THE DATA"
   ]
  },
  {
   "cell_type": "markdown",
   "metadata": {},
   "source": [
    "This dataset examines the connection between mental health and various demographic, academic, and lifestyle factors. It includes attributes such as gender, age, academic pressure, study satisfaction, sleep duration, dietary habits, study hours, financial stress, family history of mental illness, depression,   and suicidal thoughts.                               "
   ]
  },
  {
   "cell_type": "markdown",
   "metadata": {},
   "source": [
    "IMPORT LIBRARIES"
   ]
  },
  {
   "cell_type": "code",
   "execution_count": null,
   "metadata": {},
   "outputs": [],
   "source": [
    "import pandas as pd\n",
    "import numpy as np\n",
    "import matplotlib.pyplot as plt\n",
    "import seaborn as sns"
   ]
  },
  {
   "cell_type": "markdown",
   "metadata": {},
   "source": [
    "READ,LOAD AND GET INFO"
   ]
  },
  {
   "cell_type": "code",
   "execution_count": 6,
   "metadata": {},
   "outputs": [
    {
     "name": "stdout",
     "output_type": "stream",
     "text": [
      "<class 'pandas.core.frame.DataFrame'>\n",
      "RangeIndex: 502 entries, 0 to 501\n",
      "Data columns (total 11 columns):\n",
      " #   Column                                 Non-Null Count  Dtype  \n",
      "---  ------                                 --------------  -----  \n",
      " 0   Gender                                 502 non-null    object \n",
      " 1   Age                                    502 non-null    int64  \n",
      " 2   Academic Pressure                      502 non-null    float64\n",
      " 3   Study Satisfaction                     502 non-null    float64\n",
      " 4   Sleep Duration                         502 non-null    object \n",
      " 5   Dietary Habits                         502 non-null    object \n",
      " 6   Have you ever had suicidal thoughts ?  502 non-null    object \n",
      " 7   Study Hours                            502 non-null    int64  \n",
      " 8   Financial Stress                       502 non-null    int64  \n",
      " 9   Family History of Mental Illness       502 non-null    object \n",
      " 10  Depression                             502 non-null    object \n",
      "dtypes: float64(2), int64(3), object(6)\n",
      "memory usage: 43.3+ KB\n"
     ]
    }
   ],
   "source": [
    "df=pd.read_csv(\"C:\\datascience\\data set\\Depression Student Dataset.csv\")\n",
    "df.info()"
   ]
  },
  {
   "cell_type": "markdown",
   "metadata": {},
   "source": [
    "CHECK ANY NULL VALUE IN DATA"
   ]
  },
  {
   "cell_type": "code",
   "execution_count": 3,
   "metadata": {},
   "outputs": [
    {
     "name": "stdout",
     "output_type": "stream",
     "text": [
      "0\n"
     ]
    }
   ],
   "source": [
    "print(df.isna().sum().sum())"
   ]
  },
  {
   "cell_type": "code",
   "execution_count": 5,
   "metadata": {},
   "outputs": [
    {
     "data": {
      "text/plain": [
       "(502, 11)"
      ]
     },
     "execution_count": 5,
     "metadata": {},
     "output_type": "execute_result"
    }
   ],
   "source": [
    "df.shape"
   ]
  },
  {
   "cell_type": "code",
   "execution_count": 6,
   "metadata": {},
   "outputs": [
    {
     "data": {
      "text/html": [
       "<div>\n",
       "<style scoped>\n",
       "    .dataframe tbody tr th:only-of-type {\n",
       "        vertical-align: middle;\n",
       "    }\n",
       "\n",
       "    .dataframe tbody tr th {\n",
       "        vertical-align: top;\n",
       "    }\n",
       "\n",
       "    .dataframe thead th {\n",
       "        text-align: right;\n",
       "    }\n",
       "</style>\n",
       "<table border=\"1\" class=\"dataframe\">\n",
       "  <thead>\n",
       "    <tr style=\"text-align: right;\">\n",
       "      <th></th>\n",
       "      <th>Gender</th>\n",
       "      <th>Age</th>\n",
       "      <th>Academic Pressure</th>\n",
       "      <th>Study Satisfaction</th>\n",
       "      <th>Sleep Duration</th>\n",
       "      <th>Dietary Habits</th>\n",
       "      <th>Have you ever had suicidal thoughts ?</th>\n",
       "      <th>Study Hours</th>\n",
       "      <th>Financial Stress</th>\n",
       "      <th>Family History of Mental Illness</th>\n",
       "      <th>Depression</th>\n",
       "    </tr>\n",
       "  </thead>\n",
       "  <tbody>\n",
       "    <tr>\n",
       "      <th>0</th>\n",
       "      <td>Male</td>\n",
       "      <td>28</td>\n",
       "      <td>2.0</td>\n",
       "      <td>4.0</td>\n",
       "      <td>7-8 hours</td>\n",
       "      <td>Moderate</td>\n",
       "      <td>Yes</td>\n",
       "      <td>9</td>\n",
       "      <td>2</td>\n",
       "      <td>Yes</td>\n",
       "      <td>No</td>\n",
       "    </tr>\n",
       "    <tr>\n",
       "      <th>1</th>\n",
       "      <td>Male</td>\n",
       "      <td>28</td>\n",
       "      <td>4.0</td>\n",
       "      <td>5.0</td>\n",
       "      <td>5-6 hours</td>\n",
       "      <td>Healthy</td>\n",
       "      <td>Yes</td>\n",
       "      <td>7</td>\n",
       "      <td>1</td>\n",
       "      <td>Yes</td>\n",
       "      <td>No</td>\n",
       "    </tr>\n",
       "    <tr>\n",
       "      <th>2</th>\n",
       "      <td>Male</td>\n",
       "      <td>25</td>\n",
       "      <td>1.0</td>\n",
       "      <td>3.0</td>\n",
       "      <td>5-6 hours</td>\n",
       "      <td>Unhealthy</td>\n",
       "      <td>Yes</td>\n",
       "      <td>10</td>\n",
       "      <td>4</td>\n",
       "      <td>No</td>\n",
       "      <td>Yes</td>\n",
       "    </tr>\n",
       "    <tr>\n",
       "      <th>3</th>\n",
       "      <td>Male</td>\n",
       "      <td>23</td>\n",
       "      <td>1.0</td>\n",
       "      <td>4.0</td>\n",
       "      <td>More than 8 hours</td>\n",
       "      <td>Unhealthy</td>\n",
       "      <td>Yes</td>\n",
       "      <td>7</td>\n",
       "      <td>2</td>\n",
       "      <td>Yes</td>\n",
       "      <td>No</td>\n",
       "    </tr>\n",
       "    <tr>\n",
       "      <th>4</th>\n",
       "      <td>Female</td>\n",
       "      <td>31</td>\n",
       "      <td>1.0</td>\n",
       "      <td>5.0</td>\n",
       "      <td>More than 8 hours</td>\n",
       "      <td>Healthy</td>\n",
       "      <td>Yes</td>\n",
       "      <td>4</td>\n",
       "      <td>2</td>\n",
       "      <td>Yes</td>\n",
       "      <td>No</td>\n",
       "    </tr>\n",
       "  </tbody>\n",
       "</table>\n",
       "</div>"
      ],
      "text/plain": [
       "   Gender  Age  Academic Pressure  Study Satisfaction     Sleep Duration  \\\n",
       "0    Male   28                2.0                 4.0          7-8 hours   \n",
       "1    Male   28                4.0                 5.0          5-6 hours   \n",
       "2    Male   25                1.0                 3.0          5-6 hours   \n",
       "3    Male   23                1.0                 4.0  More than 8 hours   \n",
       "4  Female   31                1.0                 5.0  More than 8 hours   \n",
       "\n",
       "  Dietary Habits Have you ever had suicidal thoughts ?  Study Hours  \\\n",
       "0       Moderate                                   Yes            9   \n",
       "1        Healthy                                   Yes            7   \n",
       "2      Unhealthy                                   Yes           10   \n",
       "3      Unhealthy                                   Yes            7   \n",
       "4        Healthy                                   Yes            4   \n",
       "\n",
       "   Financial Stress Family History of Mental Illness Depression  \n",
       "0                 2                              Yes         No  \n",
       "1                 1                              Yes         No  \n",
       "2                 4                               No        Yes  \n",
       "3                 2                              Yes         No  \n",
       "4                 2                              Yes         No  "
      ]
     },
     "execution_count": 6,
     "metadata": {},
     "output_type": "execute_result"
    }
   ],
   "source": [
    "df.head()"
   ]
  },
  {
   "cell_type": "markdown",
   "metadata": {},
   "source": [
    "DROP COLUMN"
   ]
  },
  {
   "cell_type": "code",
   "execution_count": 7,
   "metadata": {},
   "outputs": [
    {
     "name": "stdout",
     "output_type": "stream",
     "text": [
      "<class 'pandas.core.frame.DataFrame'>\n",
      "RangeIndex: 502 entries, 0 to 501\n",
      "Data columns (total 11 columns):\n",
      " #   Column                                 Non-Null Count  Dtype  \n",
      "---  ------                                 --------------  -----  \n",
      " 0   Gender                                 502 non-null    object \n",
      " 1   Age                                    502 non-null    int64  \n",
      " 2   Academic Pressure                      502 non-null    float64\n",
      " 3   Study Satisfaction                     502 non-null    float64\n",
      " 4   Sleep Duration                         502 non-null    object \n",
      " 5   Dietary Habits                         502 non-null    object \n",
      " 6   Have you ever had suicidal thoughts ?  502 non-null    object \n",
      " 7   Study Hours                            502 non-null    int64  \n",
      " 8   Financial Stress                       502 non-null    int64  \n",
      " 9   Family History of Mental Illness       502 non-null    object \n",
      " 10  Depression                             502 non-null    object \n",
      "dtypes: float64(2), int64(3), object(6)\n",
      "memory usage: 43.3+ KB\n"
     ]
    }
   ],
   "source": [
    "df.dropna(inplace=True)\n",
    "df.info()"
   ]
  },
  {
   "cell_type": "markdown",
   "metadata": {},
   "source": [
    "RENAME"
   ]
  },
  {
   "cell_type": "code",
   "execution_count": 17,
   "metadata": {},
   "outputs": [
    {
     "name": "stdout",
     "output_type": "stream",
     "text": [
      "<class 'pandas.core.frame.DataFrame'>\n",
      "RangeIndex: 502 entries, 0 to 501\n",
      "Data columns (total 11 columns):\n",
      " #   Column                                Non-Null Count  Dtype  \n",
      "---  ------                                --------------  -----  \n",
      " 0   Gender                                502 non-null    object \n",
      " 1   Age                                   502 non-null    int64  \n",
      " 2   Academic_Pressure                     502 non-null    float64\n",
      " 3   Study_Satisfaction                    502 non-null    float64\n",
      " 4   Sleep_Duration                        502 non-null    object \n",
      " 5   Dietary_Habits                        502 non-null    object \n",
      " 6   Have_you_ever_had_suicidal_thoughts?  502 non-null    object \n",
      " 7   Study_Hours                           502 non-null    int64  \n",
      " 8   Financial_Stress                      502 non-null    int64  \n",
      " 9   Family_History_of_Mental_Illness      502 non-null    object \n",
      " 10  Depression                            502 non-null    object \n",
      "dtypes: float64(2), int64(3), object(6)\n",
      "memory usage: 43.3+ KB\n"
     ]
    }
   ],
   "source": [
    "df.rename(columns={'Academic Pressure':'Academic_Pressure','Study Satisfaction':'Study_Satisfaction','Sleep Duration':'Sleep_Duration','Dietary Habits':'Dietary_Habits','Have you ever had suicidal thoughts ?':'Have_you_ever_had_suicidal_thoughts?','Study Hours':'Study_Hours','Financial Stress':'Financial_Stress','Family History of Mental Illness':'Family_History_of_Mental_Illness'},inplace=True)\n",
    "df.info()"
   ]
  },
  {
   "cell_type": "markdown",
   "metadata": {},
   "source": [
    "BOXPLOTING"
   ]
  },
  {
   "cell_type": "code",
   "execution_count": 18,
   "metadata": {},
   "outputs": [
    {
     "data": {
      "text/plain": [
       "<Axes: >"
      ]
     },
     "execution_count": 18,
     "metadata": {},
     "output_type": "execute_result"
    },
    {
     "data": {
      "image/png": "[encoded data removed]",
      "text/plain": [
       "<Figure size 640x480 with 1 Axes>"
      ]
     },
     "metadata": {},
     "output_type": "display_data"
    }
   ],
   "source": [
    "import seaborn as sns\n",
    "import matplotlib.pyplot as plt\n",
    "sns.boxplot(data=df)"
   ]
  },
  {
   "cell_type": "markdown",
   "metadata": {},
   "source": [
    "DROP DUPLICATES"
   ]
  },
  {
   "cell_type": "code",
   "execution_count": 19,
   "metadata": {},
   "outputs": [
    {
     "name": "stdout",
     "output_type": "stream",
     "text": [
      "0      False\n",
      "1      False\n",
      "2      False\n",
      "3      False\n",
      "4      False\n",
      "       ...  \n",
      "497    False\n",
      "498    False\n",
      "499    False\n",
      "500    False\n",
      "501    False\n",
      "Length: 502, dtype: bool\n"
     ]
    }
   ],
   "source": [
    "print(df.duplicated())"
   ]
  },
  {
   "cell_type": "markdown",
   "metadata": {},
   "source": [
    "STATISTICAL ANALYSIS\n",
    "   *correlation\n",
    "   *coverience\n",
    "   *describe"
   ]
  },
  {
   "cell_type": "code",
   "execution_count": 20,
   "metadata": {},
   "outputs": [
    {
     "name": "stdout",
     "output_type": "stream",
     "text": [
      "                         Age  Academic_Pressure  Study_Satisfaction  \\\n",
      "Age                 1.000000           0.027132           -0.005093   \n",
      "Academic_Pressure   0.027132           1.000000           -0.101571   \n",
      "Study_Satisfaction -0.005093          -0.101571            1.000000   \n",
      "Study_Hours         0.050112           0.053024           -0.014122   \n",
      "Financial_Stress   -0.095348           0.003168           -0.038012   \n",
      "\n",
      "                    Study_Hours  Financial_Stress  \n",
      "Age                    0.050112         -0.095348  \n",
      "Academic_Pressure      0.053024          0.003168  \n",
      "Study_Satisfaction    -0.014122         -0.038012  \n",
      "Study_Hours            1.000000          0.015554  \n",
      "Financial_Stress       0.015554          1.000000  \n"
     ]
    }
   ],
   "source": [
    "cor=df.corr(numeric_only=True)\n",
    "print(cor)"
   ]
  },
  {
   "cell_type": "code",
   "execution_count": 21,
   "metadata": {},
   "outputs": [
    {
     "name": "stdout",
     "output_type": "stream",
     "text": [
      "                          Age  Academic_Pressure  Study_Satisfaction  \\\n",
      "Age                 23.975718           0.184667           -0.034250   \n",
      "Academic_Pressure    0.184667           1.932120           -0.193915   \n",
      "Study_Satisfaction  -0.034250          -0.193915            1.886474   \n",
      "Study_Hours          0.918303           0.275831           -0.072588   \n",
      "Financial_Stress    -0.665315           0.006274           -0.074401   \n",
      "\n",
      "                    Study_Hours  Financial_Stress  \n",
      "Age                    0.918303         -0.665315  \n",
      "Academic_Pressure      0.275831          0.006274  \n",
      "Study_Satisfaction    -0.072588         -0.074401  \n",
      "Study_Hours           14.005809          0.082950  \n",
      "Financial_Stress       0.082950          2.030775  \n"
     ]
    }
   ],
   "source": [
    "print(df.cov(numeric_only=True))"
   ]
  },
  {
   "cell_type": "code",
   "execution_count": 22,
   "metadata": {},
   "outputs": [
    {
     "data": {
      "text/html": [
       "<div>\n",
       "<style scoped>\n",
       "    .dataframe tbody tr th:only-of-type {\n",
       "        vertical-align: middle;\n",
       "    }\n",
       "\n",
       "    .dataframe tbody tr th {\n",
       "        vertical-align: top;\n",
       "    }\n",
       "\n",
       "    .dataframe thead th {\n",
       "        text-align: right;\n",
       "    }\n",
       "</style>\n",
       "<table border=\"1\" class=\"dataframe\">\n",
       "  <thead>\n",
       "    <tr style=\"text-align: right;\">\n",
       "      <th></th>\n",
       "      <th>Age</th>\n",
       "      <th>Academic_Pressure</th>\n",
       "      <th>Study_Satisfaction</th>\n",
       "      <th>Study_Hours</th>\n",
       "      <th>Financial_Stress</th>\n",
       "    </tr>\n",
       "  </thead>\n",
       "  <tbody>\n",
       "    <tr>\n",
       "      <th>count</th>\n",
       "      <td>502.000000</td>\n",
       "      <td>502.000000</td>\n",
       "      <td>502.000000</td>\n",
       "      <td>502.000000</td>\n",
       "      <td>502.000000</td>\n",
       "    </tr>\n",
       "    <tr>\n",
       "      <th>mean</th>\n",
       "      <td>26.241036</td>\n",
       "      <td>3.003984</td>\n",
       "      <td>3.075697</td>\n",
       "      <td>6.404382</td>\n",
       "      <td>2.928287</td>\n",
       "    </tr>\n",
       "    <tr>\n",
       "      <th>std</th>\n",
       "      <td>4.896501</td>\n",
       "      <td>1.390007</td>\n",
       "      <td>1.373490</td>\n",
       "      <td>3.742434</td>\n",
       "      <td>1.425053</td>\n",
       "    </tr>\n",
       "    <tr>\n",
       "      <th>min</th>\n",
       "      <td>18.000000</td>\n",
       "      <td>1.000000</td>\n",
       "      <td>1.000000</td>\n",
       "      <td>0.000000</td>\n",
       "      <td>1.000000</td>\n",
       "    </tr>\n",
       "    <tr>\n",
       "      <th>25%</th>\n",
       "      <td>22.000000</td>\n",
       "      <td>2.000000</td>\n",
       "      <td>2.000000</td>\n",
       "      <td>3.000000</td>\n",
       "      <td>2.000000</td>\n",
       "    </tr>\n",
       "    <tr>\n",
       "      <th>50%</th>\n",
       "      <td>26.500000</td>\n",
       "      <td>3.000000</td>\n",
       "      <td>3.000000</td>\n",
       "      <td>7.000000</td>\n",
       "      <td>3.000000</td>\n",
       "    </tr>\n",
       "    <tr>\n",
       "      <th>75%</th>\n",
       "      <td>30.000000</td>\n",
       "      <td>4.000000</td>\n",
       "      <td>4.000000</td>\n",
       "      <td>10.000000</td>\n",
       "      <td>4.000000</td>\n",
       "    </tr>\n",
       "    <tr>\n",
       "      <th>max</th>\n",
       "      <td>34.000000</td>\n",
       "      <td>5.000000</td>\n",
       "      <td>5.000000</td>\n",
       "      <td>12.000000</td>\n",
       "      <td>5.000000</td>\n",
       "    </tr>\n",
       "  </tbody>\n",
       "</table>\n",
       "</div>"
      ],
      "text/plain": [
       "              Age  Academic_Pressure  Study_Satisfaction  Study_Hours  \\\n",
       "count  502.000000         502.000000          502.000000   502.000000   \n",
       "mean    26.241036           3.003984            3.075697     6.404382   \n",
       "std      4.896501           1.390007            1.373490     3.742434   \n",
       "min     18.000000           1.000000            1.000000     0.000000   \n",
       "25%     22.000000           2.000000            2.000000     3.000000   \n",
       "50%     26.500000           3.000000            3.000000     7.000000   \n",
       "75%     30.000000           4.000000            4.000000    10.000000   \n",
       "max     34.000000           5.000000            5.000000    12.000000   \n",
       "\n",
       "       Financial_Stress  \n",
       "count        502.000000  \n",
       "mean           2.928287  \n",
       "std            1.425053  \n",
       "min            1.000000  \n",
       "25%            2.000000  \n",
       "50%            3.000000  \n",
       "75%            4.000000  \n",
       "max            5.000000  "
      ]
     },
     "execution_count": 22,
     "metadata": {},
     "output_type": "execute_result"
    }
   ],
   "source": [
    "df.describe()"
   ]
  },
  {
   "cell_type": "markdown",
   "metadata": {},
   "source": [
    "HEATMAP"
   ]
  },
  {
   "cell_type": "code",
   "execution_count": 33,
   "metadata": {},
   "outputs": [
    {
     "name": "stdout",
     "output_type": "stream",
     "text": [
      "                         Age  Academic Pressure  Study Satisfaction  \\\n",
      "Age                 1.000000           0.027132           -0.005093   \n",
      "Academic Pressure   0.027132           1.000000           -0.101571   \n",
      "Study Satisfaction -0.005093          -0.101571            1.000000   \n",
      "Study Hours         0.050112           0.053024           -0.014122   \n",
      "Financial Stress   -0.095348           0.003168           -0.038012   \n",
      "\n",
      "                    Study Hours  Financial Stress  \n",
      "Age                    0.050112         -0.095348  \n",
      "Academic Pressure      0.053024          0.003168  \n",
      "Study Satisfaction    -0.014122         -0.038012  \n",
      "Study Hours            1.000000          0.015554  \n",
      "Financial Stress       0.015554          1.000000  \n"
     ]
    },
    {
     "data": {
      "image/png": "[encoded data removed]",
      "text/plain": [
       "<Figure size 640x480 with 2 Axes>"
      ]
     },
     "metadata": {},
     "output_type": "display_data"
    }
   ],
   "source": [
    "#find correlation and plt heat map\n",
    "import pandas as pd\n",
    "import seaborn as sns\n",
    "import matplotlib.pyplot as plt\n",
    "df=pd.read_csv(\"C:\\datascience\\data set\\Depression Student Dataset.csv\")\n",
    "corr=df.corr(numeric_only=True)\n",
    "print(corr)\n",
    "sns.heatmap(corr)\n",
    "plt.show()"
   ]
  },
  {
   "cell_type": "markdown",
   "metadata": {},
   "source": [
    "GROUPBY"
   ]
  },
  {
   "cell_type": "code",
   "execution_count": null,
   "metadata": {},
   "outputs": [
    {
     "data": {
      "text/html": [
       "<div>\n",
       "<style scoped>\n",
       "    .dataframe tbody tr th:only-of-type {\n",
       "        vertical-align: middle;\n",
       "    }\n",
       "\n",
       "    .dataframe tbody tr th {\n",
       "        vertical-align: top;\n",
       "    }\n",
       "\n",
       "    .dataframe thead tr th {\n",
       "        text-align: left;\n",
       "    }\n",
       "\n",
       "    .dataframe thead tr:last-of-type th {\n",
       "        text-align: right;\n",
       "    }\n",
       "</style>\n",
       "<table border=\"1\" class=\"dataframe\">\n",
       "  <thead>\n",
       "    <tr>\n",
       "      <th></th>\n",
       "      <th colspan=\"8\" halign=\"left\">Age</th>\n",
       "      <th colspan=\"2\" halign=\"left\">Academic Pressure</th>\n",
       "      <th>...</th>\n",
       "      <th colspan=\"2\" halign=\"left\">Study Hours</th>\n",
       "      <th colspan=\"8\" halign=\"left\">Financial Stress</th>\n",
       "    </tr>\n",
       "    <tr>\n",
       "      <th></th>\n",
       "      <th>count</th>\n",
       "      <th>mean</th>\n",
       "      <th>std</th>\n",
       "      <th>min</th>\n",
       "      <th>25%</th>\n",
       "      <th>50%</th>\n",
       "      <th>75%</th>\n",
       "      <th>max</th>\n",
       "      <th>count</th>\n",
       "      <th>mean</th>\n",
       "      <th>...</th>\n",
       "      <th>75%</th>\n",
       "      <th>max</th>\n",
       "      <th>count</th>\n",
       "      <th>mean</th>\n",
       "      <th>std</th>\n",
       "      <th>min</th>\n",
       "      <th>25%</th>\n",
       "      <th>50%</th>\n",
       "      <th>75%</th>\n",
       "      <th>max</th>\n",
       "    </tr>\n",
       "    <tr>\n",
       "      <th>Gender</th>\n",
       "      <th></th>\n",
       "      <th></th>\n",
       "      <th></th>\n",
       "      <th></th>\n",
       "      <th></th>\n",
       "      <th></th>\n",
       "      <th></th>\n",
       "      <th></th>\n",
       "      <th></th>\n",
       "      <th></th>\n",
       "      <th></th>\n",
       "      <th></th>\n",
       "      <th></th>\n",
       "      <th></th>\n",
       "      <th></th>\n",
       "      <th></th>\n",
       "      <th></th>\n",
       "      <th></th>\n",
       "      <th></th>\n",
       "      <th></th>\n",
       "      <th></th>\n",
       "    </tr>\n",
       "  </thead>\n",
       "  <tbody>\n",
       "    <tr>\n",
       "      <th>Female</th>\n",
       "      <td>235.0</td>\n",
       "      <td>26.021277</td>\n",
       "      <td>4.878390</td>\n",
       "      <td>18.0</td>\n",
       "      <td>22.0</td>\n",
       "      <td>26.0</td>\n",
       "      <td>30.0</td>\n",
       "      <td>34.0</td>\n",
       "      <td>235.0</td>\n",
       "      <td>3.021277</td>\n",
       "      <td>...</td>\n",
       "      <td>10.0</td>\n",
       "      <td>12.0</td>\n",
       "      <td>235.0</td>\n",
       "      <td>3.008511</td>\n",
       "      <td>1.441128</td>\n",
       "      <td>1.0</td>\n",
       "      <td>2.0</td>\n",
       "      <td>3.0</td>\n",
       "      <td>4.0</td>\n",
       "      <td>5.0</td>\n",
       "    </tr>\n",
       "    <tr>\n",
       "      <th>Male</th>\n",
       "      <td>267.0</td>\n",
       "      <td>26.434457</td>\n",
       "      <td>4.913386</td>\n",
       "      <td>18.0</td>\n",
       "      <td>22.0</td>\n",
       "      <td>27.0</td>\n",
       "      <td>31.0</td>\n",
       "      <td>34.0</td>\n",
       "      <td>267.0</td>\n",
       "      <td>2.988764</td>\n",
       "      <td>...</td>\n",
       "      <td>10.0</td>\n",
       "      <td>12.0</td>\n",
       "      <td>267.0</td>\n",
       "      <td>2.857678</td>\n",
       "      <td>1.409676</td>\n",
       "      <td>1.0</td>\n",
       "      <td>2.0</td>\n",
       "      <td>3.0</td>\n",
       "      <td>4.0</td>\n",
       "      <td>5.0</td>\n",
       "    </tr>\n",
       "  </tbody>\n",
       "</table>\n",
       "<p>2 rows × 40 columns</p>\n",
       "</div>"
      ],
      "text/plain": [
       "          Age                                                     \\\n",
       "        count       mean       std   min   25%   50%   75%   max   \n",
       "Gender                                                             \n",
       "Female  235.0  26.021277  4.878390  18.0  22.0  26.0  30.0  34.0   \n",
       "Male    267.0  26.434457  4.913386  18.0  22.0  27.0  31.0  34.0   \n",
       "\n",
       "       Academic Pressure            ... Study Hours       Financial Stress  \\\n",
       "                   count      mean  ...         75%   max            count   \n",
       "Gender                              ...                                      \n",
       "Female             235.0  3.021277  ...        10.0  12.0            235.0   \n",
       "Male               267.0  2.988764  ...        10.0  12.0            267.0   \n",
       "\n",
       "                                                     \n",
       "            mean       std  min  25%  50%  75%  max  \n",
       "Gender                                               \n",
       "Female  3.008511  1.441128  1.0  2.0  3.0  4.0  5.0  \n",
       "Male    2.857678  1.409676  1.0  2.0  3.0  4.0  5.0  \n",
       "\n",
       "[2 rows x 40 columns]"
      ]
     },
     "execution_count": 34,
     "metadata": {},
     "output_type": "execute_result"
    }
   ],
   "source": [
    "import pandas as pd\n",
    "df=pd.read_csv(\"C:\\datascience\\data set\\Depression Student Dataset.csv\")\n",
    "test=df.groupby(['Gender'])\n",
    "test.describe()"
   ]
  },
  {
   "cell_type": "markdown",
   "metadata": {},
   "source": [
    "proportion of labels"
   ]
  },
  {
   "cell_type": "code",
   "execution_count": null,
   "metadata": {},
   "outputs": [
    {
     "data": {
      "image/png": "[encoded data removed]",
      "text/plain": [
       "<Figure size 640x480 with 1 Axes>"
      ]
     },
     "metadata": {},
     "output_type": "display_data"
    }
   ],
   "source": [
    "import matplotlib.pyplot as plt\n",
    "labels = df['Depression'].value_counts().index\n",
    "values = df['Depression'].value_counts().values\n",
    "\n",
    "plt.pie(values, labels = labels, colors = ['lightsalmon','skyblue','wheat'],autopct = '%1.0f%%')\n",
    "plt.title('Proportion of the Labels');"
   ]
  },
  {
   "cell_type": "markdown",
   "metadata": {},
   "source": [
    "correlation between study hours and academic pressure?"
   ]
  },
  {
   "cell_type": "code",
   "execution_count": null,
   "metadata": {},
   "outputs": [
    {
     "name": "stdout",
     "output_type": "stream",
     "text": [
      "correlation between study hours and Academic Pressure :0.05302389697052254\n"
     ]
    }
   ],
   "source": [
    "import pandas as pd\n",
    "df=pd.read_csv(\"C:\\datascience\\data set\\Depression Student Dataset.csv\")\n",
    "correlation=df['Study Hours'].corr(df['Academic Pressure'])\n",
    "print(f\"correlation between study hours and Academic Pressure :{correlation}\")"
   ]
  },
  {
   "cell_type": "markdown",
   "metadata": {},
   "source": [
    "What is the average age of students diagnosed with acamedic pressure?"
   ]
  },
  {
   "cell_type": "code",
   "execution_count": null,
   "metadata": {},
   "outputs": [
    {
     "name": "stdout",
     "output_type": "stream",
     "text": [
      "Average Age of Academic Pressure: 25.757575757575758\n"
     ]
    }
   ],
   "source": [
    "\n",
    "average_Age_depressed = df[df['Academic Pressure'] == 1]['Age'].mean()\n",
    "print(f\"Average Age of Academic Pressure: {average_Age_depressed}\")"
   ]
  },
  {
   "cell_type": "markdown",
   "metadata": {},
   "source": [
    "What are the common risk factors for depression among students?"
   ]
  },
  {
   "cell_type": "code",
   "execution_count": null,
   "metadata": {},
   "outputs": [
    {
     "name": "stdout",
     "output_type": "stream",
     "text": [
      "Correlation between Age and risk factors:\n",
      "                    Financial Stress  Academic Pressure  Study Satisfaction  \\\n",
      "Financial Stress            1.000000           0.003168           -0.038012   \n",
      "Academic Pressure           0.003168           1.000000           -0.101571   \n",
      "Study Satisfaction         -0.038012          -0.101571            1.000000   \n",
      "Age                        -0.095348           0.027132           -0.005093   \n",
      "\n",
      "                         Age  \n",
      "Financial Stress   -0.095348  \n",
      "Academic Pressure   0.027132  \n",
      "Study Satisfaction -0.005093  \n",
      "Age                 1.000000  \n"
     ]
    }
   ],
   "source": [
    "\n",
    "risk_factors = ['Financial Stress', 'Academic Pressure', 'Study Satisfaction']\n",
    "correlation_risk_Age = df[risk_factors + ['Age']].corr()\n",
    "print(\"Correlation between Age and risk factors:\")\n",
    "print(correlation_risk_Age)"
   ]
  },
  {
   "cell_type": "markdown",
   "metadata": {},
   "source": [
    " How does the depression level vary by gender?"
   ]
  },
  {
   "cell_type": "code",
   "execution_count": null,
   "metadata": {},
   "outputs": [
    {
     "data": {
      "image/png": "[encoded data removed]",
      "text/plain": [
       "<Figure size 800x600 with 1 Axes>"
      ]
     },
     "metadata": {},
     "output_type": "display_data"
    }
   ],
   "source": [
    "import pandas as pdv\n",
    "import seaborn as sns\n",
    "import matplotlib.pyplot as plt\n",
    "\n",
    "# Load dataset (replace with your actual dataset)\n",
    "df = pd.read_csv(\"C:\\datascience\\data set\\Depression Student Dataset.csv\")\n",
    "\n",
    "# Boxplot to show depression levels by gender\n",
    "plt.figure(figsize=(8, 6))\n",
    "sns.boxplot(x='Gender', y='Depression', data=df)\n",
    "plt.title('Depression Levels by Gender')\n",
    "plt.show()"
   ]
  },
  {
   "cell_type": "markdown",
   "metadata": {},
   "source": [
    "What is the relationship between study hours and study satisfaction?"
   ]
  },
  {
   "cell_type": "code",
   "execution_count": null,
   "metadata": {},
   "outputs": [
    {
     "data": {
      "image/png": "[encoded data removed]",
      "text/plain": [
       "<Figure size 800x600 with 1 Axes>"
      ]
     },
     "metadata": {},
     "output_type": "display_data"
    }
   ],
   "source": [
    "import pandas as pdv\n",
    "import seaborn as sns\n",
    "import matplotlib.pyplot as plt\n",
    "df = pd.read_csv(\"C:\\datascience\\data set\\Depression Student Dataset.csv\")\n",
    "plt.figure(figsize=(8, 6))\n",
    "sns.scatterplot(x='Study Hours', y='Study Satisfaction', data=df)\n",
    "plt.title('Study Hours vs Study Satisfaction')\n",
    "plt.xlabel('Study Hours')\n",
    "plt.ylabel('Study Satisfaction')\n",
    "plt.show()"
   ]
  },
  {
   "cell_type": "markdown",
   "metadata": {},
   "source": [
    "How does depression level change across different age groups?"
   ]
  },
  {
   "cell_type": "code",
   "execution_count": null,
   "metadata": {},
   "outputs": [
    {
     "data": {
      "image/png": "[encoded data removed]",
      "text/plain": [
       "<Figure size 800x600 with 1 Axes>"
      ]
     },
     "metadata": {},
     "output_type": "display_data"
    }
   ],
   "source": [
    "import matplotlib.pyplot as plt\n",
    "df = pd.read_csv(\"C:\\datascience\\data set\\Depression Student Dataset.csv\")\n",
    "# Assuming age groups are already categorized in a column like 'age_group'\n",
    "plt.figure(figsize=(8, 6))\n",
    "sns.boxplot(x='Age', y='Depression', data=df)\n",
    "plt.title('Depression by Age')\n",
    "plt.show()"
   ]
  },
  {
   "cell_type": "markdown",
   "metadata": {},
   "source": [
    "Do students' financial stress relate to their depression levels?"
   ]
  },
  {
   "cell_type": "code",
   "execution_count": null,
   "metadata": {},
   "outputs": [
    {
     "data": {
      "image/png": "[encoded data removed]",
      "text/plain": [
       "<Figure size 800x600 with 1 Axes>"
      ]
     },
     "metadata": {},
     "output_type": "display_data"
    }
   ],
   "source": [
    "import matplotlib.pyplot as plt\n",
    "df = pd.read_csv(\"C:\\datascience\\data set\\Depression Student Dataset.csv\")\n",
    "plt.figure(figsize=(8, 6))\n",
    "sns.scatterplot(x='Financial Stress', y='Depression', data=df)\n",
    "plt.title('Financial Stress vs Depression')\n",
    "plt.xlabel('Financial Stress')\n",
    "plt.ylabel('Depression')\n",
    "plt.show()"
   ]
  },
  {
   "cell_type": "markdown",
   "metadata": {},
   "source": [
    " Does age affect depression?"
   ]
  },
  {
   "cell_type": "code",
   "execution_count": null,
   "metadata": {},
   "outputs": [
    {
     "data": {
      "image/png": "[encoded data removed]",
      "text/plain": [
       "<Figure size 800x600 with 1 Axes>"
      ]
     },
     "metadata": {},
     "output_type": "display_data"
    }
   ],
   "source": [
    "import matplotlib.pyplot as plt\n",
    "df = pd.read_csv(\"C:\\datascience\\data set\\Depression Student Dataset.csv\")\n",
    "# Plotting sleep hours vs depression scores\n",
    "plt.figure(figsize=(8, 6))\n",
    "sns.boxplot(x='Depression', y='Age',data=df)\n",
    "plt.title('Age vs Depression')\n",
    "plt.xlabel('Depression')\n",
    "plt.ylabel('Age')\n",
    "plt.grid(True)\n",
    "plt.show()"
   ]
  },
  {
   "cell_type": "markdown",
   "metadata": {},
   "source": [
    "How many students are classified as \"depressed\" and \"not depressed\"?"
   ]
  },
  {
   "cell_type": "code",
   "execution_count": null,
   "metadata": {},
   "outputs": [
    {
     "name": "stdout",
     "output_type": "stream",
     "text": [
      "Depression\n",
      "Yes    252\n",
      "No     250\n",
      "Name: count, dtype: int64\n"
     ]
    }
   ],
   "source": [
    "\n",
    "df = pd.read_csv(\"C:\\datascience\\data set\\Depression Student Dataset.csv\")\n",
    "Depression = df['Depression'].value_counts()\n",
    "print(Depression)"
   ]
  },
  {
   "cell_type": "markdown",
   "metadata": {},
   "source": [
    "How does the Financial Stress(depressed vs non-depressed) differ by gender (or another categorical variable)?"
   ]
  },
  {
   "cell_type": "code",
   "execution_count": null,
   "metadata": {},
   "outputs": [
    {
     "name": "stdout",
     "output_type": "stream",
     "text": [
      "Gender  Financial Stress\n",
      "Female  5                   51\n",
      "        1                   48\n",
      "        2                   47\n",
      "        3                   46\n",
      "        4                   43\n",
      "Male    1                   62\n",
      "        2                   55\n",
      "        3                   54\n",
      "        4                   51\n",
      "        5                   45\n",
      "Name: count, dtype: int64\n"
     ]
    },
    {
     "data": {
      "image/png": "[encoded data removed]",
      "text/plain": [
       "<Figure size 800x600 with 1 Axes>"
      ]
     },
     "metadata": {},
     "output_type": "display_data"
    }
   ],
   "source": [
    "# Group by gender and calculate the mean Financial Stress\n",
    "Gender_FinancialStress = df.groupby('Gender')['Financial Stress'].value_counts()\n",
    "print(Gender_FinancialStress)\n",
    "\n",
    "plt.figure(figsize=(8, 6))\n",
    "sns.boxplot(x='Gender', y='Financial Stress', data=df)\n",
    "plt.title('Financial Stress by Gender')\n",
    "plt.show()"
   ]
  },
  {
   "cell_type": "markdown",
   "metadata": {},
   "source": [
    "Are there any outliers in a specific numerical column, such as GPA or study satisfaction?"
   ]
  },
  {
   "cell_type": "code",
   "execution_count": null,
   "metadata": {},
   "outputs": [
    {
     "name": "stdout",
     "output_type": "stream",
     "text": [
      "Empty DataFrame\n",
      "Columns: [Gender, Age, Academic Pressure, Study Satisfaction, Sleep Duration, Dietary Habits, Have you ever had suicidal thoughts ?, Study Hours, Financial Stress, Family History of Mental Illness, Depression]\n",
      "Index: []\n"
     ]
    }
   ],
   "source": [
    "df = pd.read_csv(\"C:\\datascience\\data set\\Depression Student Dataset.csv\")\n",
    "# Check for outliers using the IQR method for a column, e.g., 'stress_level'\n",
    "Q1 = df['Study Satisfaction'].quantile(0.25)\n",
    "Q3 = df['Study Satisfaction'].quantile(0.75)\n",
    "IQR = Q3 - Q1\n",
    "outliers = df[(df['Study Satisfaction'] < (Q1 - 1.5 * IQR)) | (df['Study Satisfaction'] > (Q3 + 1.5 * IQR))]\n",
    "print(outliers)"
   ]
  },
  {
   "cell_type": "markdown",
   "metadata": {},
   "source": [
    "                                                             SUMMARY"
   ]
  },
  {
   "cell_type": "markdown",
   "metadata": {},
   "source": [
    " This dataset examines the connection between mental health and various demographic, academic, and lifestyle factors. It includes attributes such as gender, age, academic pressure, study satisfaction, sleep duration, dietary habits, study hours, financial stress, family history of mental illness, depression, and suicidal thoughts. The dataset enables an exploration of how factors like sleep quality, diet, and academic workload impact mental well-being, offering potential applications in identifying patterns of mental health risks and promoting preventive strategies for improved mental health outcomes among different demographic groups.this dataset also about the mental strenghth and how students depressed and what are the common risk factors amoung the students.In this dataset depressed and non depressed students categorical variable differ by gender.                          "
   ]
  }
 ],
 "metadata": {
  "kernelspec": {
   "display_name": "Python 3",
   "language": "python",
   "name": "python3"
  },
  "language_info": {
   "codemirror_mode": {
    "name": "ipython",
    "version": 3
   },
   "file_extension": ".py",
   "mimetype": "text/x-python",
   "name": "python",
   "nbconvert_exporter": "python",
   "pygments_lexer": "ipython3",
   "version": "3.10.11"
  }
 },
 "nbformat": 4,
 "nbformat_minor": 2
}
